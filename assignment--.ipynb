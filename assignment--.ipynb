{
 "cells": [
  {
   "cell_type": "code",
   "execution_count": 1,
   "metadata": {},
   "outputs": [],
   "source": [
    "from sklearn.cluster import KMeans\n",
    "import matplotlib.pyplot as plt\n",
    "from mpl_toolkits.mplot3d import Axes3D\n",
    "import numpy as np\n",
    "%matplotlib inline\n",
    "import pandas as pd"
   ]
  },
  {
   "cell_type": "code",
   "execution_count": 2,
   "metadata": {},
   "outputs": [],
   "source": [
    "mav_df= pd.read_excel('Downloads/mavoix_ml_sample_dataset.xlsx')"
   ]
  },
  {
   "cell_type": "code",
   "execution_count": 11,
   "metadata": {},
   "outputs": [
    {
     "data": {
      "text/html": [
       "<div>\n",
       "<style scoped>\n",
       "    .dataframe tbody tr th:only-of-type {\n",
       "        vertical-align: middle;\n",
       "    }\n",
       "\n",
       "    .dataframe tbody tr th {\n",
       "        vertical-align: top;\n",
       "    }\n",
       "\n",
       "    .dataframe thead th {\n",
       "        text-align: right;\n",
       "    }\n",
       "</style>\n",
       "<table border=\"1\" class=\"dataframe\">\n",
       "  <thead>\n",
       "    <tr style=\"text-align: right;\">\n",
       "      <th></th>\n",
       "      <th>Python (out of 3)</th>\n",
       "      <th>R Programming (out of 3)</th>\n",
       "      <th>Deep Learning (out of 3)</th>\n",
       "      <th>PHP (out of 3)</th>\n",
       "      <th>MySQL (out of 3)</th>\n",
       "      <th>HTML (out of 3)</th>\n",
       "      <th>CSS (out of 3)</th>\n",
       "      <th>JavaScript (out of 3)</th>\n",
       "      <th>AJAX (out of 3)</th>\n",
       "      <th>Bootstrap (out of 3)</th>\n",
       "      <th>...</th>\n",
       "      <th>Node.js (out of 3)</th>\n",
       "      <th>ReactJS (out of 3)</th>\n",
       "      <th>Other skills</th>\n",
       "      <th>Degree</th>\n",
       "      <th>Stream</th>\n",
       "      <th>Current Year Of Graduation</th>\n",
       "      <th>Performance_PG</th>\n",
       "      <th>Performance_UG</th>\n",
       "      <th>Performance_12</th>\n",
       "      <th>Performance_10</th>\n",
       "    </tr>\n",
       "  </thead>\n",
       "  <tbody>\n",
       "    <tr>\n",
       "      <td>0</td>\n",
       "      <td>0</td>\n",
       "      <td>2</td>\n",
       "      <td>0</td>\n",
       "      <td>2</td>\n",
       "      <td>0</td>\n",
       "      <td>2</td>\n",
       "      <td>3</td>\n",
       "      <td>2</td>\n",
       "      <td>0</td>\n",
       "      <td>2</td>\n",
       "      <td>...</td>\n",
       "      <td>0</td>\n",
       "      <td>0</td>\n",
       "      <td>R Programming</td>\n",
       "      <td>Bachelor of Science (B.Sc)</td>\n",
       "      <td>Mathematics</td>\n",
       "      <td>2017</td>\n",
       "      <td>NaN</td>\n",
       "      <td>NaN</td>\n",
       "      <td>NaN</td>\n",
       "      <td>NaN</td>\n",
       "    </tr>\n",
       "    <tr>\n",
       "      <td>1</td>\n",
       "      <td>2</td>\n",
       "      <td>0</td>\n",
       "      <td>0</td>\n",
       "      <td>2</td>\n",
       "      <td>2</td>\n",
       "      <td>2</td>\n",
       "      <td>2</td>\n",
       "      <td>2</td>\n",
       "      <td>0</td>\n",
       "      <td>0</td>\n",
       "      <td>...</td>\n",
       "      <td>0</td>\n",
       "      <td>0</td>\n",
       "      <td>Data Science, Machine Learning, Neural Network...</td>\n",
       "      <td>Bachelor of Technology (B.Tech)</td>\n",
       "      <td>Computer Science &amp; Engineering</td>\n",
       "      <td>2019</td>\n",
       "      <td>NaN</td>\n",
       "      <td>85.50/100</td>\n",
       "      <td>92.20/92.20</td>\n",
       "      <td>96.60/96.60</td>\n",
       "    </tr>\n",
       "    <tr>\n",
       "      <td>2</td>\n",
       "      <td>3</td>\n",
       "      <td>0</td>\n",
       "      <td>1</td>\n",
       "      <td>2</td>\n",
       "      <td>2</td>\n",
       "      <td>2</td>\n",
       "      <td>0</td>\n",
       "      <td>2</td>\n",
       "      <td>0</td>\n",
       "      <td>0</td>\n",
       "      <td>...</td>\n",
       "      <td>0</td>\n",
       "      <td>0</td>\n",
       "      <td>Algorithms, Data Structures, Python, C Program...</td>\n",
       "      <td>Master of Science (M.Sc)</td>\n",
       "      <td>Computer  Science</td>\n",
       "      <td>2018</td>\n",
       "      <td>7.91/10</td>\n",
       "      <td>70.00/100</td>\n",
       "      <td>64.83/64.83</td>\n",
       "      <td>77.60/77.60</td>\n",
       "    </tr>\n",
       "    <tr>\n",
       "      <td>3</td>\n",
       "      <td>2</td>\n",
       "      <td>0</td>\n",
       "      <td>2</td>\n",
       "      <td>1</td>\n",
       "      <td>0</td>\n",
       "      <td>2</td>\n",
       "      <td>0</td>\n",
       "      <td>0</td>\n",
       "      <td>0</td>\n",
       "      <td>0</td>\n",
       "      <td>...</td>\n",
       "      <td>0</td>\n",
       "      <td>0</td>\n",
       "      <td>CSS, Deep Learning, Embedded Systems, HTML, Ma...</td>\n",
       "      <td>Bachelor of Engineering (B.E)</td>\n",
       "      <td>Electronics and Communication</td>\n",
       "      <td>2019</td>\n",
       "      <td>NaN</td>\n",
       "      <td>6.86/10</td>\n",
       "      <td>76.00/76.00</td>\n",
       "      <td>84.32/84.32</td>\n",
       "    </tr>\n",
       "    <tr>\n",
       "      <td>4</td>\n",
       "      <td>2</td>\n",
       "      <td>0</td>\n",
       "      <td>0</td>\n",
       "      <td>2</td>\n",
       "      <td>0</td>\n",
       "      <td>2</td>\n",
       "      <td>1</td>\n",
       "      <td>1</td>\n",
       "      <td>0</td>\n",
       "      <td>0</td>\n",
       "      <td>...</td>\n",
       "      <td>2</td>\n",
       "      <td>2</td>\n",
       "      <td>HTML, OpenCV, Python, SQL, C++ Programming, CS...</td>\n",
       "      <td>Bachelor of Technology (B.Tech)</td>\n",
       "      <td>Production Engineering</td>\n",
       "      <td>2018</td>\n",
       "      <td>NaN</td>\n",
       "      <td>6.38/10</td>\n",
       "      <td>65.20/65.20</td>\n",
       "      <td>68.80/68.80</td>\n",
       "    </tr>\n",
       "  </tbody>\n",
       "</table>\n",
       "<p>5 rows × 21 columns</p>\n",
       "</div>"
      ],
      "text/plain": [
       "   Python (out of 3)  R Programming (out of 3)  Deep Learning (out of 3)  \\\n",
       "0                  0                         2                         0   \n",
       "1                  2                         0                         0   \n",
       "2                  3                         0                         1   \n",
       "3                  2                         0                         2   \n",
       "4                  2                         0                         0   \n",
       "\n",
       "   PHP (out of 3)  MySQL (out of 3)  HTML (out of 3)  CSS (out of 3)  \\\n",
       "0               2                 0                2               3   \n",
       "1               2                 2                2               2   \n",
       "2               2                 2                2               0   \n",
       "3               1                 0                2               0   \n",
       "4               2                 0                2               1   \n",
       "\n",
       "   JavaScript (out of 3)  AJAX (out of 3)  Bootstrap (out of 3)  ...  \\\n",
       "0                      2                0                     2  ...   \n",
       "1                      2                0                     0  ...   \n",
       "2                      2                0                     0  ...   \n",
       "3                      0                0                     0  ...   \n",
       "4                      1                0                     0  ...   \n",
       "\n",
       "   Node.js (out of 3)  ReactJS (out of 3)  \\\n",
       "0                   0                   0   \n",
       "1                   0                   0   \n",
       "2                   0                   0   \n",
       "3                   0                   0   \n",
       "4                   2                   2   \n",
       "\n",
       "                                        Other skills  \\\n",
       "0                                      R Programming   \n",
       "1  Data Science, Machine Learning, Neural Network...   \n",
       "2  Algorithms, Data Structures, Python, C Program...   \n",
       "3  CSS, Deep Learning, Embedded Systems, HTML, Ma...   \n",
       "4  HTML, OpenCV, Python, SQL, C++ Programming, CS...   \n",
       "\n",
       "                            Degree                          Stream  \\\n",
       "0       Bachelor of Science (B.Sc)                     Mathematics   \n",
       "1  Bachelor of Technology (B.Tech)  Computer Science & Engineering   \n",
       "2         Master of Science (M.Sc)               Computer  Science   \n",
       "3    Bachelor of Engineering (B.E)   Electronics and Communication   \n",
       "4  Bachelor of Technology (B.Tech)          Production Engineering   \n",
       "\n",
       "  Current Year Of Graduation  Performance_PG Performance_UG Performance_12  \\\n",
       "0                       2017             NaN            NaN            NaN   \n",
       "1                       2019             NaN      85.50/100    92.20/92.20   \n",
       "2                       2018         7.91/10      70.00/100    64.83/64.83   \n",
       "3                       2019             NaN        6.86/10    76.00/76.00   \n",
       "4                       2018             NaN        6.38/10    65.20/65.20   \n",
       "\n",
       "  Performance_10  \n",
       "0            NaN  \n",
       "1    96.60/96.60  \n",
       "2    77.60/77.60  \n",
       "3    84.32/84.32  \n",
       "4    68.80/68.80  \n",
       "\n",
       "[5 rows x 21 columns]"
      ]
     },
     "execution_count": 11,
     "metadata": {},
     "output_type": "execute_result"
    }
   ],
   "source": [
    "mav_df.head()"
   ]
  },
  {
   "cell_type": "code",
   "execution_count": 3,
   "metadata": {},
   "outputs": [
    {
     "name": "stdout",
     "output_type": "stream",
     "text": [
      "Application_ID                  0\n",
      "Current City                    0\n",
      "Python (out of 3)               0\n",
      "R Programming (out of 3)        0\n",
      "Deep Learning (out of 3)        0\n",
      "PHP (out of 3)                  0\n",
      "MySQL (out of 3)                0\n",
      "HTML (out of 3)                 0\n",
      "CSS (out of 3)                  0\n",
      "JavaScript (out of 3)           0\n",
      "Unnamed: 10                   392\n",
      "AJAX (out of 3)                 0\n",
      "Bootstrap (out of 3)            0\n",
      "MongoDB (out of 3)              0\n",
      "Node.js (out of 3)              0\n",
      "ReactJS (out of 3)              0\n",
      "Other skills                   14\n",
      "Degree                         12\n",
      "Stream                         18\n",
      "Current Year Of Graduation      0\n",
      "Performance_PG                289\n",
      "Performance_UG                 54\n",
      "Performance_12                163\n",
      "Performance_10                177\n",
      "dtype: int64\n"
     ]
    }
   ],
   "source": [
    "\n",
    "print(mav_df.isnull().sum())"
   ]
  },
  {
   "cell_type": "code",
   "execution_count": 4,
   "metadata": {},
   "outputs": [
    {
     "data": {
      "text/plain": [
       "Index(['Python (out of 3)', 'R Programming (out of 3)',\n",
       "       'Deep Learning (out of 3)', 'PHP (out of 3)', 'MySQL (out of 3)',\n",
       "       'HTML (out of 3)', 'CSS (out of 3)', 'JavaScript (out of 3)',\n",
       "       'AJAX (out of 3)', 'Bootstrap (out of 3)', 'MongoDB (out of 3)',\n",
       "       'Node.js (out of 3)', 'ReactJS (out of 3)', 'Other skills', 'Degree',\n",
       "       'Stream', 'Current Year Of Graduation', 'Performance_PG',\n",
       "       'Performance_UG', 'Performance_12', 'Performance_10'],\n",
       "      dtype='object')"
      ]
     },
     "execution_count": 4,
     "metadata": {},
     "output_type": "execute_result"
    }
   ],
   "source": [
    "mav_df=mav_df.drop(['Application_ID','Current City','Unnamed: 10'],axis=1)\n",
    "mav_df.columns"
   ]
  },
  {
   "cell_type": "code",
   "execution_count": 5,
   "metadata": {},
   "outputs": [],
   "source": [
    "mav_df.dtypes\n",
    "\n",
    "def Encode(mav_df):\n",
    "    for column in mav_df.columns[~mav_df.columns.isin([])]:\n",
    "        mav_df[column] = mav_df[column].factorize()[0]\n",
    "    return mav_df"
   ]
  },
  {
   "cell_type": "code",
   "execution_count": 6,
   "metadata": {},
   "outputs": [],
   "source": [
    "\n",
    "mav = Encode(mav_df.copy())"
   ]
  },
  {
   "cell_type": "code",
   "execution_count": 7,
   "metadata": {},
   "outputs": [
    {
     "name": "stdout",
     "output_type": "stream",
     "text": [
      "Python (out of 3)             0\n",
      "R Programming (out of 3)      0\n",
      "Deep Learning (out of 3)      0\n",
      "PHP (out of 3)                0\n",
      "MySQL (out of 3)              0\n",
      "HTML (out of 3)               0\n",
      "CSS (out of 3)                0\n",
      "JavaScript (out of 3)         0\n",
      "AJAX (out of 3)               0\n",
      "Bootstrap (out of 3)          0\n",
      "MongoDB (out of 3)            0\n",
      "Node.js (out of 3)            0\n",
      "ReactJS (out of 3)            0\n",
      "Other skills                  0\n",
      "Degree                        0\n",
      "Stream                        0\n",
      "Current Year Of Graduation    0\n",
      "Performance_PG                0\n",
      "Performance_UG                0\n",
      "Performance_12                0\n",
      "Performance_10                0\n",
      "dtype: int64\n",
      "Python (out of 3)             int64\n",
      "R Programming (out of 3)      int64\n",
      "Deep Learning (out of 3)      int64\n",
      "PHP (out of 3)                int64\n",
      "MySQL (out of 3)              int64\n",
      "HTML (out of 3)               int64\n",
      "CSS (out of 3)                int64\n",
      "JavaScript (out of 3)         int64\n",
      "AJAX (out of 3)               int64\n",
      "Bootstrap (out of 3)          int64\n",
      "MongoDB (out of 3)            int64\n",
      "Node.js (out of 3)            int64\n",
      "ReactJS (out of 3)            int64\n",
      "Other skills                  int64\n",
      "Degree                        int64\n",
      "Stream                        int64\n",
      "Current Year Of Graduation    int64\n",
      "Performance_PG                int64\n",
      "Performance_UG                int64\n",
      "Performance_12                int64\n",
      "Performance_10                int64\n",
      "dtype: object\n"
     ]
    }
   ],
   "source": [
    "\n",
    "print(mav.isnull().sum())\n",
    "print(mav.dtypes)"
   ]
  },
  {
   "cell_type": "code",
   "execution_count": 8,
   "metadata": {},
   "outputs": [
    {
     "data": {
      "text/plain": [
       "KMeans(algorithm='auto', copy_x=True, init='k-means++', max_iter=300,\n",
       "       n_clusters=2, n_init=10, n_jobs=None, precompute_distances='auto',\n",
       "       random_state=None, tol=0.0001, verbose=0)"
      ]
     },
     "execution_count": 8,
     "metadata": {},
     "output_type": "execute_result"
    }
   ],
   "source": [
    "\n",
    "kmeans = KMeans(n_clusters=2)\n",
    "kmeans.fit(mav)"
   ]
  },
  {
   "cell_type": "code",
   "execution_count": 9,
   "metadata": {},
   "outputs": [],
   "source": [
    "\n",
    "centroids = kmeans.cluster_centers_\n",
    "labels = kmeans.labels_"
   ]
  },
  {
   "cell_type": "code",
   "execution_count": 10,
   "metadata": {},
   "outputs": [
    {
     "name": "stdout",
     "output_type": "stream",
     "text": [
      "[[1.07305936e+00 9.45205479e-01 4.74885845e-01 1.45662100e+00\n",
      "  3.15068493e-01 1.04109589e+00 1.57534247e+00 1.05936073e+00\n",
      "  1.36986301e-02 9.31506849e-01 2.73972603e-02 5.47945205e-02\n",
      "  1.82648402e-01 2.35557078e+02 5.79452055e+00 1.75662100e+01\n",
      "  2.96347032e+00 1.28082192e+01 9.17716895e+01 5.55388128e+01\n",
      "  3.71141553e+01]\n",
      " [1.31213873e+00 8.72832370e-01 4.45086705e-01 1.53179191e+00\n",
      "  2.83236994e-01 1.08670520e+00 1.61271676e+00 1.02890173e+00\n",
      "  1.73410405e-02 9.82658960e-01 2.31213873e-02 4.62427746e-02\n",
      "  2.31213873e-01 6.99190751e+01 4.59537572e+00 1.55375723e+01\n",
      "  2.89017341e+00 2.45086705e+00 3.29884393e+01 2.08843931e+01\n",
      "  1.51560694e+01]]\n",
      "[1 1 1 1 1 1 1 1 1 1 1 1 1 1 1 1 1 1 1 1 1 1 1 1 1 1 1 1 1 1 1 1 1 1 1 1 1\n",
      " 1 1 1 1 1 1 1 1 1 1 1 1 1 1 1 1 1 1 1 1 1 1 1 1 1 1 1 1 1 1 1 1 1 1 1 1 1\n",
      " 1 1 1 1 1 1 1 1 1 1 1 1 1 1 1 1 1 1 1 1 1 1 1 1 1 1 1 1 1 1 1 1 1 1 1 1 1\n",
      " 1 1 1 1 1 1 1 1 1 1 1 1 1 1 1 1 1 1 1 1 1 1 1 1 1 1 1 1 0 1 1 0 1 1 0 1 0\n",
      " 1 1 0 1 1 1 0 0 0 0 0 0 1 1 1 0 0 0 0 0 1 1 0 0 1 0 0 0 0 1 1 0 0 0 1 1 1\n",
      " 0 0 0 1 0 1 0 0 1 0 0 0 0 0 0 0 0 0 0 0 0 0 0 0 0 0 1 0 0 0 0 0 0 0 0 0 0\n",
      " 0 0 0 0 0 0 0 0 0 0 0 0 0 0 0 0 0 0 0 0 0 0 0 0 0 0 0 0 0 0 0 0 0 0 0 0 0\n",
      " 0 0 0 0 0 0 1 0 0 0 0 0 0 0 0 0 0 0 0 1 0 1 0 0 0 0 0 0 0 1 0 0 0 0 0 0 0\n",
      " 0 0 0 0 0 1 0 1 0 0 0 0 0 0 0 1 0 0 0 0 0 0 0 0 0 0 0 0 0 0 0 0 0 0 0 0 0\n",
      " 0 0 0 0 0 0 0 0 0 0 0 0 0 0 1 0 0 0 0 0 0 0 0 0 0 0 0 0 0 0 0 0 0 0 0 0 0\n",
      " 0 0 0 0 0 0 0 0 0 0 0 0 0 0 0 1 0 0 0 0 0 0]\n"
     ]
    }
   ],
   "source": [
    "print(centroids)\n",
    "print(labels)"
   ]
  },
  {
   "cell_type": "code",
   "execution_count": 12,
   "metadata": {},
   "outputs": [],
   "source": [
    "y=mav['Stream']"
   ]
  },
  {
   "cell_type": "code",
   "execution_count": 14,
   "metadata": {},
   "outputs": [
    {
     "data": {
      "text/html": [
       "<div>\n",
       "<style scoped>\n",
       "    .dataframe tbody tr th:only-of-type {\n",
       "        vertical-align: middle;\n",
       "    }\n",
       "\n",
       "    .dataframe tbody tr th {\n",
       "        vertical-align: top;\n",
       "    }\n",
       "\n",
       "    .dataframe thead th {\n",
       "        text-align: right;\n",
       "    }\n",
       "</style>\n",
       "<table border=\"1\" class=\"dataframe\">\n",
       "  <thead>\n",
       "    <tr style=\"text-align: right;\">\n",
       "      <th>col_0</th>\n",
       "      <th>0</th>\n",
       "      <th>1</th>\n",
       "    </tr>\n",
       "    <tr>\n",
       "      <th>Stream</th>\n",
       "      <th></th>\n",
       "      <th></th>\n",
       "    </tr>\n",
       "  </thead>\n",
       "  <tbody>\n",
       "    <tr>\n",
       "      <td>-1</td>\n",
       "      <td>8</td>\n",
       "      <td>10</td>\n",
       "    </tr>\n",
       "    <tr>\n",
       "      <td>0</td>\n",
       "      <td>1</td>\n",
       "      <td>5</td>\n",
       "    </tr>\n",
       "    <tr>\n",
       "      <td>1</td>\n",
       "      <td>25</td>\n",
       "      <td>20</td>\n",
       "    </tr>\n",
       "    <tr>\n",
       "      <td>2</td>\n",
       "      <td>44</td>\n",
       "      <td>20</td>\n",
       "    </tr>\n",
       "    <tr>\n",
       "      <td>3</td>\n",
       "      <td>27</td>\n",
       "      <td>19</td>\n",
       "    </tr>\n",
       "    <tr>\n",
       "      <td>...</td>\n",
       "      <td>...</td>\n",
       "      <td>...</td>\n",
       "    </tr>\n",
       "    <tr>\n",
       "      <td>73</td>\n",
       "      <td>1</td>\n",
       "      <td>0</td>\n",
       "    </tr>\n",
       "    <tr>\n",
       "      <td>74</td>\n",
       "      <td>1</td>\n",
       "      <td>0</td>\n",
       "    </tr>\n",
       "    <tr>\n",
       "      <td>75</td>\n",
       "      <td>1</td>\n",
       "      <td>0</td>\n",
       "    </tr>\n",
       "    <tr>\n",
       "      <td>76</td>\n",
       "      <td>1</td>\n",
       "      <td>0</td>\n",
       "    </tr>\n",
       "    <tr>\n",
       "      <td>77</td>\n",
       "      <td>1</td>\n",
       "      <td>0</td>\n",
       "    </tr>\n",
       "  </tbody>\n",
       "</table>\n",
       "<p>79 rows × 2 columns</p>\n",
       "</div>"
      ],
      "text/plain": [
       "col_0    0   1\n",
       "Stream        \n",
       "-1       8  10\n",
       " 0       1   5\n",
       " 1      25  20\n",
       " 2      44  20\n",
       " 3      27  19\n",
       "...     ..  ..\n",
       " 73      1   0\n",
       " 74      1   0\n",
       " 75      1   0\n",
       " 76      1   0\n",
       " 77      1   0\n",
       "\n",
       "[79 rows x 2 columns]"
      ]
     },
     "execution_count": 14,
     "metadata": {},
     "output_type": "execute_result"
    }
   ],
   "source": [
    "pd.crosstab(y,labels)"
   ]
  },
  {
   "cell_type": "code",
   "execution_count": 15,
   "metadata": {},
   "outputs": [],
   "source": [
    "colmap=np.array(['Red','Blue','Green'])"
   ]
  },
  {
   "cell_type": "code",
   "execution_count": 19,
   "metadata": {},
   "outputs": [],
   "source": [
    "from sklearn.metrics import confusion_matrix"
   ]
  },
  {
   "cell_type": "code",
   "execution_count": 20,
   "metadata": {},
   "outputs": [
    {
     "data": {
      "text/plain": [
       "array([[ 0,  8, 10, ...,  0,  0,  0],\n",
       "       [ 0,  1,  5, ...,  0,  0,  0],\n",
       "       [ 0, 25, 20, ...,  0,  0,  0],\n",
       "       ...,\n",
       "       [ 0,  1,  0, ...,  0,  0,  0],\n",
       "       [ 0,  1,  0, ...,  0,  0,  0],\n",
       "       [ 0,  1,  0, ...,  0,  0,  0]], dtype=int64)"
      ]
     },
     "execution_count": 20,
     "metadata": {},
     "output_type": "execute_result"
    }
   ],
   "source": [
    "confusion_matrix(y,labels)"
   ]
  },
  {
   "cell_type": "code",
   "execution_count": null,
   "metadata": {},
   "outputs": [],
   "source": []
  }
 ],
 "metadata": {
  "kernelspec": {
   "display_name": "Python 3",
   "language": "python",
   "name": "python3"
  },
  "language_info": {
   "codemirror_mode": {
    "name": "ipython",
    "version": 3
   },
   "file_extension": ".py",
   "mimetype": "text/x-python",
   "name": "python",
   "nbconvert_exporter": "python",
   "pygments_lexer": "ipython3",
   "version": "3.6.9"
  }
 },
 "nbformat": 4,
 "nbformat_minor": 2
}
