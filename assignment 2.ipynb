{
 "cells": [
  {
   "cell_type": "code",
   "execution_count": 1,
   "metadata": {},
   "outputs": [],
   "source": [
    "from sklearn.cluster import KMeans\n",
    "import matplotlib.pyplot as plt\n",
    "from mpl_toolkits.mplot3d import Axes3D\n",
    "import numpy as np\n",
    "%matplotlib inline\n",
    "import pandas as pd"
   ]
  },
  {
   "cell_type": "code",
   "execution_count": 2,
   "metadata": {},
   "outputs": [],
   "source": [
    "mav_df= pd.read_excel('Downloads/mavoix_ml_sample_dataset.xlsx')"
   ]
  },
  {
   "cell_type": "code",
   "execution_count": 3,
   "metadata": {},
   "outputs": [
    {
     "data": {
      "text/html": [
       "<div>\n",
       "<style scoped>\n",
       "    .dataframe tbody tr th:only-of-type {\n",
       "        vertical-align: middle;\n",
       "    }\n",
       "\n",
       "    .dataframe tbody tr th {\n",
       "        vertical-align: top;\n",
       "    }\n",
       "\n",
       "    .dataframe thead th {\n",
       "        text-align: right;\n",
       "    }\n",
       "</style>\n",
       "<table border=\"1\" class=\"dataframe\">\n",
       "  <thead>\n",
       "    <tr style=\"text-align: right;\">\n",
       "      <th></th>\n",
       "      <th>Application_ID</th>\n",
       "      <th>Current City</th>\n",
       "      <th>Python (out of 3)</th>\n",
       "      <th>R Programming (out of 3)</th>\n",
       "      <th>Deep Learning (out of 3)</th>\n",
       "      <th>PHP (out of 3)</th>\n",
       "      <th>MySQL (out of 3)</th>\n",
       "      <th>HTML (out of 3)</th>\n",
       "      <th>CSS (out of 3)</th>\n",
       "      <th>JavaScript (out of 3)</th>\n",
       "      <th>...</th>\n",
       "      <th>Node.js (out of 3)</th>\n",
       "      <th>ReactJS (out of 3)</th>\n",
       "      <th>Other skills</th>\n",
       "      <th>Degree</th>\n",
       "      <th>Stream</th>\n",
       "      <th>Current Year Of Graduation</th>\n",
       "      <th>Performance_PG</th>\n",
       "      <th>Performance_UG</th>\n",
       "      <th>Performance_12</th>\n",
       "      <th>Performance_10</th>\n",
       "    </tr>\n",
       "  </thead>\n",
       "  <tbody>\n",
       "    <tr>\n",
       "      <td>0</td>\n",
       "      <td>ML0001</td>\n",
       "      <td>Bangalore</td>\n",
       "      <td>0</td>\n",
       "      <td>2</td>\n",
       "      <td>0</td>\n",
       "      <td>2</td>\n",
       "      <td>0</td>\n",
       "      <td>2</td>\n",
       "      <td>3</td>\n",
       "      <td>2</td>\n",
       "      <td>...</td>\n",
       "      <td>0</td>\n",
       "      <td>0</td>\n",
       "      <td>R Programming</td>\n",
       "      <td>Bachelor of Science (B.Sc)</td>\n",
       "      <td>Mathematics</td>\n",
       "      <td>2017</td>\n",
       "      <td>NaN</td>\n",
       "      <td>NaN</td>\n",
       "      <td>NaN</td>\n",
       "      <td>NaN</td>\n",
       "    </tr>\n",
       "    <tr>\n",
       "      <td>1</td>\n",
       "      <td>ML0002</td>\n",
       "      <td>Bangalore</td>\n",
       "      <td>2</td>\n",
       "      <td>0</td>\n",
       "      <td>0</td>\n",
       "      <td>2</td>\n",
       "      <td>2</td>\n",
       "      <td>2</td>\n",
       "      <td>2</td>\n",
       "      <td>2</td>\n",
       "      <td>...</td>\n",
       "      <td>0</td>\n",
       "      <td>0</td>\n",
       "      <td>Data Science, Machine Learning, Neural Network...</td>\n",
       "      <td>Bachelor of Technology (B.Tech)</td>\n",
       "      <td>Computer Science &amp; Engineering</td>\n",
       "      <td>2019</td>\n",
       "      <td>NaN</td>\n",
       "      <td>85.50/100</td>\n",
       "      <td>92.20/92.20</td>\n",
       "      <td>96.60/96.60</td>\n",
       "    </tr>\n",
       "    <tr>\n",
       "      <td>2</td>\n",
       "      <td>ML0003</td>\n",
       "      <td>Bangalore</td>\n",
       "      <td>3</td>\n",
       "      <td>0</td>\n",
       "      <td>1</td>\n",
       "      <td>2</td>\n",
       "      <td>2</td>\n",
       "      <td>2</td>\n",
       "      <td>0</td>\n",
       "      <td>2</td>\n",
       "      <td>...</td>\n",
       "      <td>0</td>\n",
       "      <td>0</td>\n",
       "      <td>Algorithms, Data Structures, Python, C Program...</td>\n",
       "      <td>Master of Science (M.Sc)</td>\n",
       "      <td>Computer  Science</td>\n",
       "      <td>2018</td>\n",
       "      <td>7.91/10</td>\n",
       "      <td>70.00/100</td>\n",
       "      <td>64.83/64.83</td>\n",
       "      <td>77.60/77.60</td>\n",
       "    </tr>\n",
       "    <tr>\n",
       "      <td>3</td>\n",
       "      <td>ML0004</td>\n",
       "      <td>Bangalore</td>\n",
       "      <td>2</td>\n",
       "      <td>0</td>\n",
       "      <td>2</td>\n",
       "      <td>1</td>\n",
       "      <td>0</td>\n",
       "      <td>2</td>\n",
       "      <td>0</td>\n",
       "      <td>0</td>\n",
       "      <td>...</td>\n",
       "      <td>0</td>\n",
       "      <td>0</td>\n",
       "      <td>CSS, Deep Learning, Embedded Systems, HTML, Ma...</td>\n",
       "      <td>Bachelor of Engineering (B.E)</td>\n",
       "      <td>Electronics and Communication</td>\n",
       "      <td>2019</td>\n",
       "      <td>NaN</td>\n",
       "      <td>6.86/10</td>\n",
       "      <td>76.00/76.00</td>\n",
       "      <td>84.32/84.32</td>\n",
       "    </tr>\n",
       "    <tr>\n",
       "      <td>4</td>\n",
       "      <td>ML0005</td>\n",
       "      <td>Bangalore</td>\n",
       "      <td>2</td>\n",
       "      <td>0</td>\n",
       "      <td>0</td>\n",
       "      <td>2</td>\n",
       "      <td>0</td>\n",
       "      <td>2</td>\n",
       "      <td>1</td>\n",
       "      <td>1</td>\n",
       "      <td>...</td>\n",
       "      <td>2</td>\n",
       "      <td>2</td>\n",
       "      <td>HTML, OpenCV, Python, SQL, C++ Programming, CS...</td>\n",
       "      <td>Bachelor of Technology (B.Tech)</td>\n",
       "      <td>Production Engineering</td>\n",
       "      <td>2018</td>\n",
       "      <td>NaN</td>\n",
       "      <td>6.38/10</td>\n",
       "      <td>65.20/65.20</td>\n",
       "      <td>68.80/68.80</td>\n",
       "    </tr>\n",
       "  </tbody>\n",
       "</table>\n",
       "<p>5 rows × 24 columns</p>\n",
       "</div>"
      ],
      "text/plain": [
       "  Application_ID Current City  Python (out of 3)  R Programming (out of 3)  \\\n",
       "0         ML0001    Bangalore                  0                         2   \n",
       "1         ML0002    Bangalore                  2                         0   \n",
       "2         ML0003    Bangalore                  3                         0   \n",
       "3         ML0004    Bangalore                  2                         0   \n",
       "4         ML0005    Bangalore                  2                         0   \n",
       "\n",
       "   Deep Learning (out of 3)  PHP (out of 3)  MySQL (out of 3)  \\\n",
       "0                         0               2                 0   \n",
       "1                         0               2                 2   \n",
       "2                         1               2                 2   \n",
       "3                         2               1                 0   \n",
       "4                         0               2                 0   \n",
       "\n",
       "   HTML (out of 3)  CSS (out of 3)  JavaScript (out of 3)  ...  \\\n",
       "0                2               3                      2  ...   \n",
       "1                2               2                      2  ...   \n",
       "2                2               0                      2  ...   \n",
       "3                2               0                      0  ...   \n",
       "4                2               1                      1  ...   \n",
       "\n",
       "   Node.js (out of 3)  ReactJS (out of 3)  \\\n",
       "0                   0                   0   \n",
       "1                   0                   0   \n",
       "2                   0                   0   \n",
       "3                   0                   0   \n",
       "4                   2                   2   \n",
       "\n",
       "                                        Other skills  \\\n",
       "0                                      R Programming   \n",
       "1  Data Science, Machine Learning, Neural Network...   \n",
       "2  Algorithms, Data Structures, Python, C Program...   \n",
       "3  CSS, Deep Learning, Embedded Systems, HTML, Ma...   \n",
       "4  HTML, OpenCV, Python, SQL, C++ Programming, CS...   \n",
       "\n",
       "                            Degree                          Stream  \\\n",
       "0       Bachelor of Science (B.Sc)                     Mathematics   \n",
       "1  Bachelor of Technology (B.Tech)  Computer Science & Engineering   \n",
       "2         Master of Science (M.Sc)               Computer  Science   \n",
       "3    Bachelor of Engineering (B.E)   Electronics and Communication   \n",
       "4  Bachelor of Technology (B.Tech)          Production Engineering   \n",
       "\n",
       "   Current Year Of Graduation Performance_PG Performance_UG Performance_12  \\\n",
       "0                        2017            NaN            NaN            NaN   \n",
       "1                        2019            NaN      85.50/100    92.20/92.20   \n",
       "2                        2018        7.91/10      70.00/100    64.83/64.83   \n",
       "3                        2019            NaN        6.86/10    76.00/76.00   \n",
       "4                        2018            NaN        6.38/10    65.20/65.20   \n",
       "\n",
       "   Performance_10  \n",
       "0             NaN  \n",
       "1     96.60/96.60  \n",
       "2     77.60/77.60  \n",
       "3     84.32/84.32  \n",
       "4     68.80/68.80  \n",
       "\n",
       "[5 rows x 24 columns]"
      ]
     },
     "execution_count": 3,
     "metadata": {},
     "output_type": "execute_result"
    }
   ],
   "source": [
    "mav_df.head()"
   ]
  },
  {
   "cell_type": "code",
   "execution_count": 5,
   "metadata": {},
   "outputs": [
    {
     "data": {
      "text/plain": [
       "<matplotlib.axes._subplots.AxesSubplot at 0x152c2b13d68>"
      ]
     },
     "execution_count": 5,
     "metadata": {},
     "output_type": "execute_result"
    },
    {
     "data": {
      "image/png": "[encoded data removed]",
      "text/plain": [
       "<Figure size 432x288 with 1 Axes>"
      ]
     },
     "metadata": {},
     "output_type": "display_data"
    }
   ],
   "source": [
    "mav_df['Performance_10'].value_counts().plot(kind='pie',autopct='%1.1f%%')"
   ]
  },
  {
   "cell_type": "code",
   "execution_count": 13,
   "metadata": {},
   "outputs": [],
   "source": [
    "mav_df.dtypes\n",
    "\n",
    "def Encode(mav_df):\n",
    "    for column in mav_df.columns[~mav_df.columns.isin([])]:\n",
    "        mav_df[column] = mav_df[column].factorize()[0]\n",
    "    return mav_df"
   ]
  },
  {
   "cell_type": "code",
   "execution_count": 14,
   "metadata": {},
   "outputs": [],
   "source": [
    "mav = Encode(mav_df.copy())"
   ]
  },
  {
   "cell_type": "code",
   "execution_count": 15,
   "metadata": {},
   "outputs": [
    {
     "name": "stdout",
     "output_type": "stream",
     "text": [
      "Application_ID                0\n",
      "Current City                  0\n",
      "Python (out of 3)             0\n",
      "R Programming (out of 3)      0\n",
      "Deep Learning (out of 3)      0\n",
      "PHP (out of 3)                0\n",
      "MySQL (out of 3)              0\n",
      "HTML (out of 3)               0\n",
      "CSS (out of 3)                0\n",
      "JavaScript (out of 3)         0\n",
      "Unnamed: 10                   0\n",
      "AJAX (out of 3)               0\n",
      "Bootstrap (out of 3)          0\n",
      "MongoDB (out of 3)            0\n",
      "Node.js (out of 3)            0\n",
      "ReactJS (out of 3)            0\n",
      "Other skills                  0\n",
      "Degree                        0\n",
      "Stream                        0\n",
      "Current Year Of Graduation    0\n",
      "Performance_PG                0\n",
      "Performance_UG                0\n",
      "Performance_12                0\n",
      "Performance_10                0\n",
      "dtype: int64\n",
      "Application_ID                int64\n",
      "Current City                  int64\n",
      "Python (out of 3)             int64\n",
      "R Programming (out of 3)      int64\n",
      "Deep Learning (out of 3)      int64\n",
      "PHP (out of 3)                int64\n",
      "MySQL (out of 3)              int64\n",
      "HTML (out of 3)               int64\n",
      "CSS (out of 3)                int64\n",
      "JavaScript (out of 3)         int64\n",
      "Unnamed: 10                   int64\n",
      "AJAX (out of 3)               int64\n",
      "Bootstrap (out of 3)          int64\n",
      "MongoDB (out of 3)            int64\n",
      "Node.js (out of 3)            int64\n",
      "ReactJS (out of 3)            int64\n",
      "Other skills                  int64\n",
      "Degree                        int64\n",
      "Stream                        int64\n",
      "Current Year Of Graduation    int64\n",
      "Performance_PG                int64\n",
      "Performance_UG                int64\n",
      "Performance_12                int64\n",
      "Performance_10                int64\n",
      "dtype: object\n"
     ]
    }
   ],
   "source": [
    "\n",
    "print(mav.isnull().sum())\n",
    "print(mav.dtypes)"
   ]
  },
  {
   "cell_type": "code",
   "execution_count": 18,
   "metadata": {},
   "outputs": [
    {
     "data": {
      "text/html": [
       "<div>\n",
       "<style scoped>\n",
       "    .dataframe tbody tr th:only-of-type {\n",
       "        vertical-align: middle;\n",
       "    }\n",
       "\n",
       "    .dataframe tbody tr th {\n",
       "        vertical-align: top;\n",
       "    }\n",
       "\n",
       "    .dataframe thead th {\n",
       "        text-align: right;\n",
       "    }\n",
       "</style>\n",
       "<table border=\"1\" class=\"dataframe\">\n",
       "  <thead>\n",
       "    <tr style=\"text-align: right;\">\n",
       "      <th></th>\n",
       "      <th>Application_ID</th>\n",
       "      <th>Current City</th>\n",
       "      <th>Python (out of 3)</th>\n",
       "      <th>R Programming (out of 3)</th>\n",
       "      <th>Deep Learning (out of 3)</th>\n",
       "      <th>PHP (out of 3)</th>\n",
       "      <th>MySQL (out of 3)</th>\n",
       "      <th>HTML (out of 3)</th>\n",
       "      <th>CSS (out of 3)</th>\n",
       "      <th>JavaScript (out of 3)</th>\n",
       "      <th>...</th>\n",
       "      <th>MongoDB (out of 3)</th>\n",
       "      <th>Node.js (out of 3)</th>\n",
       "      <th>ReactJS (out of 3)</th>\n",
       "      <th>Other skills</th>\n",
       "      <th>Degree</th>\n",
       "      <th>Stream</th>\n",
       "      <th>Current Year Of Graduation</th>\n",
       "      <th>Performance_PG</th>\n",
       "      <th>Performance_UG</th>\n",
       "      <th>Performance_12</th>\n",
       "    </tr>\n",
       "  </thead>\n",
       "  <tbody>\n",
       "    <tr>\n",
       "      <td>0</td>\n",
       "      <td>0</td>\n",
       "      <td>0</td>\n",
       "      <td>0</td>\n",
       "      <td>0</td>\n",
       "      <td>0</td>\n",
       "      <td>0</td>\n",
       "      <td>0</td>\n",
       "      <td>0</td>\n",
       "      <td>0</td>\n",
       "      <td>0</td>\n",
       "      <td>...</td>\n",
       "      <td>0</td>\n",
       "      <td>0</td>\n",
       "      <td>0</td>\n",
       "      <td>0</td>\n",
       "      <td>0</td>\n",
       "      <td>0</td>\n",
       "      <td>0</td>\n",
       "      <td>-1</td>\n",
       "      <td>-1</td>\n",
       "      <td>-1</td>\n",
       "    </tr>\n",
       "    <tr>\n",
       "      <td>1</td>\n",
       "      <td>1</td>\n",
       "      <td>0</td>\n",
       "      <td>1</td>\n",
       "      <td>1</td>\n",
       "      <td>0</td>\n",
       "      <td>0</td>\n",
       "      <td>1</td>\n",
       "      <td>0</td>\n",
       "      <td>1</td>\n",
       "      <td>0</td>\n",
       "      <td>...</td>\n",
       "      <td>0</td>\n",
       "      <td>0</td>\n",
       "      <td>0</td>\n",
       "      <td>1</td>\n",
       "      <td>1</td>\n",
       "      <td>1</td>\n",
       "      <td>1</td>\n",
       "      <td>-1</td>\n",
       "      <td>0</td>\n",
       "      <td>0</td>\n",
       "    </tr>\n",
       "    <tr>\n",
       "      <td>2</td>\n",
       "      <td>2</td>\n",
       "      <td>0</td>\n",
       "      <td>2</td>\n",
       "      <td>1</td>\n",
       "      <td>1</td>\n",
       "      <td>0</td>\n",
       "      <td>1</td>\n",
       "      <td>0</td>\n",
       "      <td>2</td>\n",
       "      <td>0</td>\n",
       "      <td>...</td>\n",
       "      <td>0</td>\n",
       "      <td>0</td>\n",
       "      <td>0</td>\n",
       "      <td>2</td>\n",
       "      <td>2</td>\n",
       "      <td>2</td>\n",
       "      <td>2</td>\n",
       "      <td>0</td>\n",
       "      <td>1</td>\n",
       "      <td>1</td>\n",
       "    </tr>\n",
       "    <tr>\n",
       "      <td>3</td>\n",
       "      <td>3</td>\n",
       "      <td>0</td>\n",
       "      <td>1</td>\n",
       "      <td>1</td>\n",
       "      <td>2</td>\n",
       "      <td>1</td>\n",
       "      <td>0</td>\n",
       "      <td>0</td>\n",
       "      <td>2</td>\n",
       "      <td>1</td>\n",
       "      <td>...</td>\n",
       "      <td>0</td>\n",
       "      <td>0</td>\n",
       "      <td>0</td>\n",
       "      <td>3</td>\n",
       "      <td>3</td>\n",
       "      <td>3</td>\n",
       "      <td>1</td>\n",
       "      <td>-1</td>\n",
       "      <td>2</td>\n",
       "      <td>2</td>\n",
       "    </tr>\n",
       "    <tr>\n",
       "      <td>4</td>\n",
       "      <td>4</td>\n",
       "      <td>0</td>\n",
       "      <td>1</td>\n",
       "      <td>1</td>\n",
       "      <td>0</td>\n",
       "      <td>0</td>\n",
       "      <td>0</td>\n",
       "      <td>0</td>\n",
       "      <td>3</td>\n",
       "      <td>2</td>\n",
       "      <td>...</td>\n",
       "      <td>1</td>\n",
       "      <td>1</td>\n",
       "      <td>1</td>\n",
       "      <td>4</td>\n",
       "      <td>1</td>\n",
       "      <td>4</td>\n",
       "      <td>2</td>\n",
       "      <td>-1</td>\n",
       "      <td>3</td>\n",
       "      <td>3</td>\n",
       "    </tr>\n",
       "  </tbody>\n",
       "</table>\n",
       "<p>5 rows × 23 columns</p>\n",
       "</div>"
      ],
      "text/plain": [
       "   Application_ID  Current City  Python (out of 3)  R Programming (out of 3)  \\\n",
       "0               0             0                  0                         0   \n",
       "1               1             0                  1                         1   \n",
       "2               2             0                  2                         1   \n",
       "3               3             0                  1                         1   \n",
       "4               4             0                  1                         1   \n",
       "\n",
       "   Deep Learning (out of 3)  PHP (out of 3)  MySQL (out of 3)  \\\n",
       "0                         0               0                 0   \n",
       "1                         0               0                 1   \n",
       "2                         1               0                 1   \n",
       "3                         2               1                 0   \n",
       "4                         0               0                 0   \n",
       "\n",
       "   HTML (out of 3)  CSS (out of 3)  JavaScript (out of 3)  ...  \\\n",
       "0                0               0                      0  ...   \n",
       "1                0               1                      0  ...   \n",
       "2                0               2                      0  ...   \n",
       "3                0               2                      1  ...   \n",
       "4                0               3                      2  ...   \n",
       "\n",
       "   MongoDB (out of 3)  Node.js (out of 3)  ReactJS (out of 3)  Other skills  \\\n",
       "0                   0                   0                   0             0   \n",
       "1                   0                   0                   0             1   \n",
       "2                   0                   0                   0             2   \n",
       "3                   0                   0                   0             3   \n",
       "4                   1                   1                   1             4   \n",
       "\n",
       "   Degree  Stream  Current Year Of Graduation  Performance_PG  Performance_UG  \\\n",
       "0       0       0                           0              -1              -1   \n",
       "1       1       1                           1              -1               0   \n",
       "2       2       2                           2               0               1   \n",
       "3       3       3                           1              -1               2   \n",
       "4       1       4                           2              -1               3   \n",
       "\n",
       "   Performance_12  \n",
       "0              -1  \n",
       "1               0  \n",
       "2               1  \n",
       "3               2  \n",
       "4               3  \n",
       "\n",
       "[5 rows x 23 columns]"
      ]
     },
     "execution_count": 18,
     "metadata": {},
     "output_type": "execute_result"
    }
   ],
   "source": [
    "x=mav.drop(['Performance_10'],axis=1)\n",
    "x.head()"
   ]
  },
  {
   "cell_type": "code",
   "execution_count": 19,
   "metadata": {},
   "outputs": [],
   "source": [
    "y=mav['Performance_10']"
   ]
  },
  {
   "cell_type": "code",
   "execution_count": 20,
   "metadata": {},
   "outputs": [],
   "source": [
    "from sklearn.model_selection import train_test_split\n",
    "X_train,X_test,y_train,y_test=train_test_split(x,y,test_size=0.2,random_state=1)"
   ]
  },
  {
   "cell_type": "code",
   "execution_count": 21,
   "metadata": {},
   "outputs": [
    {
     "data": {
      "text/plain": [
       "LinearRegression(copy_X=True, fit_intercept=True, n_jobs=None, normalize=False)"
      ]
     },
     "execution_count": 21,
     "metadata": {},
     "output_type": "execute_result"
    }
   ],
   "source": [
    "from sklearn.linear_model import LinearRegression\n",
    "model=LinearRegression()\n",
    "model.fit(X_train,y_train)"
   ]
  },
  {
   "cell_type": "code",
   "execution_count": 22,
   "metadata": {},
   "outputs": [
    {
     "data": {
      "text/plain": [
       "array([ 5.32976154, 55.09790146, 93.00793792, 33.02615263, 62.29659004,\n",
       "       -5.27003179, 10.24385753,  0.83687381, 22.34652304, 70.28847343,\n",
       "       20.50658663, 85.87720527, 61.92060508, 12.55877762,  4.74652817,\n",
       "       -1.9502279 , 82.82741414, 82.69646303,  7.52427493, 53.25961761,\n",
       "       -6.23317027,  3.21728718, 25.38428741, 45.42814807, -3.61157688,\n",
       "        9.79904122, 49.47285343, 47.57032236, 47.43871661, 72.35060657,\n",
       "       17.41962195, 33.17400023, 19.91180493, 68.57281622, 53.30027561,\n",
       "       15.55241544, 42.4829003 , 69.05476629, 83.1832439 ,  0.45386984,\n",
       "       66.33566352,  7.66585286, 18.98240853, 35.74615513,  8.18758457,\n",
       "       41.44669577, 32.23747184,  5.03846085, 57.63227547, 43.11789125,\n",
       "       21.34145625, -0.10749519,  7.16538882, 61.64622917,  0.26659032,\n",
       "        8.80565085, 63.01392148,  7.08442314, 64.37283125,  0.88535672,\n",
       "       71.92179729,  9.29661681, 64.2730085 , 10.42505409, -4.30468374,\n",
       "       10.47499218, 15.44117697,  9.30377795, 37.34796076, 14.84799982,\n",
       "       63.57194271,  3.64182156, 17.77572648, 80.76830064,  9.35121721,\n",
       "       62.40104919,  9.95729561, 29.73952571, 28.62200064])"
      ]
     },
     "execution_count": 22,
     "metadata": {},
     "output_type": "execute_result"
    }
   ],
   "source": [
    "pred=model.predict(X_test)\n",
    "pred"
   ]
  },
  {
   "cell_type": "code",
   "execution_count": 23,
   "metadata": {},
   "outputs": [
    {
     "data": {
      "text/plain": [
       "0.4858355973519206"
      ]
     },
     "execution_count": 23,
     "metadata": {},
     "output_type": "execute_result"
    }
   ],
   "source": [
    "model.score(X_train,y_train)"
   ]
  },
  {
   "cell_type": "code",
   "execution_count": 24,
   "metadata": {},
   "outputs": [
    {
     "data": {
      "text/plain": [
       "0.2733407956548808"
      ]
     },
     "execution_count": 24,
     "metadata": {},
     "output_type": "execute_result"
    }
   ],
   "source": [
    "model.score(X_test,y_test)"
   ]
  },
  {
   "cell_type": "code",
   "execution_count": 25,
   "metadata": {},
   "outputs": [
    {
     "data": {
      "text/plain": [
       "0.20488188720978595"
      ]
     },
     "execution_count": 25,
     "metadata": {},
     "output_type": "execute_result"
    }
   ],
   "source": [
    "from sklearn.model_selection import cross_val_score\n",
    "m=cross_val_score(model,x,y,cv=5)\n",
    "m.mean()"
   ]
  },
  {
   "cell_type": "code",
   "execution_count": 26,
   "metadata": {},
   "outputs": [],
   "source": [
    "import xgboost\n",
    "regressor=xgboost.XGBRegressor()"
   ]
  },
  {
   "cell_type": "code",
   "execution_count": 27,
   "metadata": {},
   "outputs": [],
   "source": [
    "booster=['gbtree','gblinear']\n",
    "base_score=[0.25,0.5,0.75,1]"
   ]
  },
  {
   "cell_type": "code",
   "execution_count": 28,
   "metadata": {},
   "outputs": [],
   "source": [
    "n_estimators = [100, 500, 900, 1100, 1500]\n",
    "max_depth = [2, 3, 5, 10, 15]\n",
    "booster=['gbtree','gblinear']\n",
    "learning_rate=[0.05,0.1,0.15,0.20]\n",
    "min_child_weight=[1,2,3,4]\n",
    "\n",
    "# Define the grid of hyperparameters to search\n",
    "hyperparameter_grid = {\n",
    "    'n_estimators': n_estimators,\n",
    "    'max_depth':max_depth,\n",
    "    'learning_rate':learning_rate,\n",
    "    'min_child_weight':min_child_weight,\n",
    "    'booster':booster,\n",
    "    'base_score':base_score\n",
    "    }"
   ]
  },
  {
   "cell_type": "code",
   "execution_count": 29,
   "metadata": {},
   "outputs": [],
   "source": [
    "from sklearn.model_selection import RandomizedSearchCV"
   ]
  },
  {
   "cell_type": "code",
   "execution_count": 30,
   "metadata": {},
   "outputs": [],
   "source": [
    "random_cv = RandomizedSearchCV(estimator=regressor,\n",
    "            param_distributions=hyperparameter_grid,\n",
    "            cv=5, n_iter=50,\n",
    "            scoring = 'neg_mean_absolute_error',n_jobs = 4,\n",
    "            verbose = 5, \n",
    "            return_train_score = True,\n",
    "            random_state=42)"
   ]
  },
  {
   "cell_type": "code",
   "execution_count": 31,
   "metadata": {},
   "outputs": [
    {
     "name": "stdout",
     "output_type": "stream",
     "text": [
      "Fitting 5 folds for each of 50 candidates, totalling 250 fits\n"
     ]
    },
    {
     "name": "stderr",
     "output_type": "stream",
     "text": [
      "[Parallel(n_jobs=4)]: Using backend LokyBackend with 4 concurrent workers.\n",
      "[Parallel(n_jobs=4)]: Done  10 tasks      | elapsed:   30.9s\n",
      "[Parallel(n_jobs=4)]: Done  64 tasks      | elapsed:   48.4s\n",
      "[Parallel(n_jobs=4)]: Done 154 tasks      | elapsed:  1.0min\n",
      "[Parallel(n_jobs=4)]: Done 250 out of 250 | elapsed:  1.3min finished\n",
      "C:\\ANACONDA\\lib\\site-packages\\sklearn\\model_selection\\_search.py:814: DeprecationWarning: The default of the `iid` parameter will change from True to False in version 0.22 and will be removed in 0.24. This will change numeric results when test-set sizes are unequal.\n",
      "  DeprecationWarning)\n",
      "C:\\ANACONDA\\lib\\site-packages\\xgboost\\core.py:587: FutureWarning: Series.base is deprecated and will be removed in a future version\n",
      "  if getattr(data, 'base', None) is not None and \\\n"
     ]
    },
    {
     "name": "stdout",
     "output_type": "stream",
     "text": [
      "[21:14:48] WARNING: C:/Jenkins/workspace/xgboost-win64_release_0.90/src/objective/regression_obj.cu:152: reg:linear is now deprecated in favor of reg:squarederror.\n"
     ]
    },
    {
     "data": {
      "text/plain": [
       "RandomizedSearchCV(cv=5, error_score='raise-deprecating',\n",
       "                   estimator=XGBRegressor(base_score=0.5, booster='gbtree',\n",
       "                                          colsample_bylevel=1,\n",
       "                                          colsample_bynode=1,\n",
       "                                          colsample_bytree=1, gamma=0,\n",
       "                                          importance_type='gain',\n",
       "                                          learning_rate=0.1, max_delta_step=0,\n",
       "                                          max_depth=3, min_child_weight=1,\n",
       "                                          missing=None, n_estimators=100,\n",
       "                                          n_jobs=1, nthread=None,\n",
       "                                          objective='reg:linear',\n",
       "                                          random_st...\n",
       "                   iid='warn', n_iter=50, n_jobs=4,\n",
       "                   param_distributions={'base_score': [0.25, 0.5, 0.75, 1],\n",
       "                                        'booster': ['gbtree', 'gblinear'],\n",
       "                                        'learning_rate': [0.05, 0.1, 0.15, 0.2],\n",
       "                                        'max_depth': [2, 3, 5, 10, 15],\n",
       "                                        'min_child_weight': [1, 2, 3, 4],\n",
       "                                        'n_estimators': [100, 500, 900, 1100,\n",
       "                                                         1500]},\n",
       "                   pre_dispatch='2*n_jobs', random_state=42, refit=True,\n",
       "                   return_train_score=True, scoring='neg_mean_absolute_error',\n",
       "                   verbose=5)"
      ]
     },
     "execution_count": 31,
     "metadata": {},
     "output_type": "execute_result"
    }
   ],
   "source": [
    "random_cv.fit(X_train,y_train)"
   ]
  },
  {
   "cell_type": "code",
   "execution_count": 32,
   "metadata": {},
   "outputs": [
    {
     "data": {
      "text/plain": [
       "XGBRegressor(base_score=0.75, booster='gbtree', colsample_bylevel=1,\n",
       "             colsample_bynode=1, colsample_bytree=1, gamma=0,\n",
       "             importance_type='gain', learning_rate=0.1, max_delta_step=0,\n",
       "             max_depth=5, min_child_weight=2, missing=None, n_estimators=1100,\n",
       "             n_jobs=1, nthread=None, objective='reg:linear', random_state=0,\n",
       "             reg_alpha=0, reg_lambda=1, scale_pos_weight=1, seed=None,\n",
       "             silent=None, subsample=1, verbosity=1)"
      ]
     },
     "execution_count": 32,
     "metadata": {},
     "output_type": "execute_result"
    }
   ],
   "source": [
    "random_cv.best_estimator_"
   ]
  },
  {
   "cell_type": "code",
   "execution_count": 33,
   "metadata": {},
   "outputs": [],
   "source": [
    "regressor=xgboost.XGBRegressor(base_score=0.25, booster='gbtree', colsample_bylevel=1,\n",
    "       colsample_bytree=1, gamma=0, learning_rate=0.1, max_delta_step=0,\n",
    "       max_depth=2, min_child_weight=1, missing=None, n_estimators=900,\n",
    "       n_jobs=1, nthread=None, objective='reg:linear', random_state=0,\n",
    "       reg_alpha=0, reg_lambda=1, scale_pos_weight=1, seed=None,\n",
    "       silent=True, subsample=1)"
   ]
  },
  {
   "cell_type": "code",
   "execution_count": 34,
   "metadata": {},
   "outputs": [
    {
     "data": {
      "text/plain": [
       "XGBRegressor(base_score=0.25, booster='gbtree', colsample_bylevel=1,\n",
       "             colsample_bynode=1, colsample_bytree=1, gamma=0,\n",
       "             importance_type='gain', learning_rate=0.1, max_delta_step=0,\n",
       "             max_depth=2, min_child_weight=1, missing=None, n_estimators=900,\n",
       "             n_jobs=1, nthread=None, objective='reg:linear', random_state=0,\n",
       "             reg_alpha=0, reg_lambda=1, scale_pos_weight=1, seed=None,\n",
       "             silent=True, subsample=1, verbosity=1)"
      ]
     },
     "execution_count": 34,
     "metadata": {},
     "output_type": "execute_result"
    }
   ],
   "source": [
    "regressor.fit(X_train,y_train)"
   ]
  },
  {
   "cell_type": "code",
   "execution_count": 35,
   "metadata": {},
   "outputs": [
    {
     "data": {
      "text/plain": [
       "0.9832390671087905"
      ]
     },
     "execution_count": 35,
     "metadata": {},
     "output_type": "execute_result"
    }
   ],
   "source": [
    "regressor.score(X_train,y_train)"
   ]
  },
  {
   "cell_type": "code",
   "execution_count": null,
   "metadata": {},
   "outputs": [],
   "source": []
  }
 ],
 "metadata": {
  "kernelspec": {
   "display_name": "Python 3",
   "language": "python",
   "name": "python3"
  },
  "language_info": {
   "codemirror_mode": {
    "name": "ipython",
    "version": 3
   },
   "file_extension": ".py",
   "mimetype": "text/x-python",
   "name": "python",
   "nbconvert_exporter": "python",
   "pygments_lexer": "ipython3",
   "version": "3.6.9"
  }
 },
 "nbformat": 4,
 "nbformat_minor": 2
}
